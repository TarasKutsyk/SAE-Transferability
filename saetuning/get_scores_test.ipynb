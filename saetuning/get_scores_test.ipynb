{
 "cells": [
  {
   "cell_type": "code",
   "execution_count": 1,
   "id": "bad158ce-2acd-4410-bfef-f62e5c70f902",
   "metadata": {},
   "outputs": [],
   "source": [
    "from get_scores import *"
   ]
  },
  {
   "cell_type": "markdown",
   "id": "43718ff3-080b-465d-96ce-c03f099763be",
   "metadata": {},
   "source": [
    "### TOBE finished"
   ]
  },
  {
   "cell_type": "code",
   "execution_count": 2,
   "id": "507efc59-ac7b-4191-a4d9-98eb9c266f31",
   "metadata": {},
   "outputs": [
    {
     "data": {
      "application/vnd.jupyter.widget-view+json": {
       "model_id": "241a0b4a5c7a4e1db66e9af813b4c8a6",
       "version_major": 2,
       "version_minor": 0
      },
      "text/plain": [
       "VBox(children=(HTML(value='<center> <img\\nsrc=https://huggingface.co/front/assets/huggingface_logo-noborder.sv…"
      ]
     },
     "metadata": {},
     "output_type": "display_data"
    }
   ],
   "source": [
    "from huggingface_hub import login\n",
    "login()"
   ]
  },
  {
   "cell_type": "code",
   "execution_count": 3,
   "id": "837993fc-f783-4931-9306-0fbe514fd605",
   "metadata": {},
   "outputs": [],
   "source": [
    "### set this args with argparse, now hardcoded\n",
    "GEMMA=True\n",
    "\n",
    "if GEMMA == True:\n",
    "    N_CONTEXT = 1024 # number of context tokens to consider\n",
    "    N_BATCHES = 128 # number of batches to consider\n",
    "    TOTAL_BATCHES = 20 \n",
    "\n",
    "    RELEASE = 'gemma-2b-res-jb'\n",
    "    BASE_MODEL = \"google/gemma-2b\"\n",
    "    FINETUNE_MODEL = 'shahdishank/gemma-2b-it-finetune-python-codes'\n",
    "    DATASET_NAME = \"ctigges/openwebtext-gemma-1024-cl\"\n",
    "    hook_part = 'post'\n",
    "    layer_num = 6\n",
    "else:\n",
    "    N_CONTEXT = 128 # number of context tokens to consider\n",
    "    N_BATCHES = 128 # number of batches to consider\n",
    "    TOTAL_BATCHES = 100 \n",
    "\n",
    "    RELEASE = 'gpt2-small-res-jb'\n",
    "    BASE_MODEL = \"gpt2-small\"\n",
    "    FINETUNE_MODEL = 'pierreguillou/gpt2-small-portuguese'\n",
    "    DATASET_NAME = \"Skylion007/openwebtext\"\n",
    "    hook_part = 'pre'\n",
    "    layer_num = 6\n",
    "\n",
    "SAE_HOOK = f'blocks.{layer_num}.hook_resid_{hook_part}'"
   ]
  }
 ],
 "metadata": {
  "kernelspec": {
   "display_name": "Python 3 (ipykernel)",
   "language": "python",
   "name": "python3"
  },
  "language_info": {
   "codemirror_mode": {
    "name": "ipython",
    "version": 3
   },
   "file_extension": ".py",
   "mimetype": "text/x-python",
   "name": "python",
   "nbconvert_exporter": "python",
   "pygments_lexer": "ipython3",
   "version": "3.10.14"
  }
 },
 "nbformat": 4,
 "nbformat_minor": 5
}
