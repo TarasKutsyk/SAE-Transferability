{
 "cells": [
  {
   "cell_type": "code",
   "execution_count": 1,
   "id": "bad158ce-2acd-4410-bfef-f62e5c70f902",
   "metadata": {},
   "outputs": [],
   "source": [
    "from get_scores import *"
   ]
  },
  {
   "cell_type": "code",
   "execution_count": 2,
   "id": "507efc59-ac7b-4191-a4d9-98eb9c266f31",
   "metadata": {},
   "outputs": [
    {
     "data": {
      "application/vnd.jupyter.widget-view+json": {
       "model_id": "3366095cc3154a2f97bb2a9b4639c4cd",
       "version_major": 2,
       "version_minor": 0
      },
      "text/plain": [
       "VBox(children=(HTML(value='<center> <img\\nsrc=https://huggingface.co/front/assets/huggingface_logo-noborder.sv…"
      ]
     },
     "metadata": {},
     "output_type": "display_data"
    }
   ],
   "source": [
    "from huggingface_hub import login\n",
    "login()"
   ]
  },
  {
   "cell_type": "code",
   "execution_count": 3,
   "id": "837993fc-f783-4931-9306-0fbe514fd605",
   "metadata": {},
   "outputs": [],
   "source": [
    "### set this args with argparse, now hardcoded\n",
    "GEMMA=False\n",
    "\n",
    "if GEMMA == True:\n",
    "    N_CONTEXT = 1024 # number of context tokens to consider\n",
    "    N_BATCHES = 128 # number of batches to consider\n",
    "    TOTAL_BATCHES = 20 \n",
    "\n",
    "    RELEASE = 'gemma-2b-res-jb'\n",
    "    BASE_MODEL = \"google/gemma-2b\"\n",
    "    FINETUNE_MODEL = 'shahdishank/gemma-2b-it-finetune-python-codes'\n",
    "    DATASET_NAME = \"ctigges/openwebtext-gemma-1024-cl\"\n",
    "    hook_part = 'post'\n",
    "    layer_num = 6\n",
    "else:\n",
    "    N_CONTEXT = 128 # number of context tokens to consider\n",
    "    N_BATCHES = 128 # number of batches to consider\n",
    "    TOTAL_BATCHES = 100 \n",
    "\n",
    "    RELEASE = 'gpt2-small-res-jb'\n",
    "    BASE_MODEL = \"gpt2-small\"\n",
    "    FINETUNE_MODEL = 'pierreguillou/gpt2-small-portuguese'\n",
    "    DATASET_NAME = \"Skylion007/openwebtext\"\n",
    "    hook_part = 'pre'\n",
    "    layer_num = 6\n",
    "\n",
    "SAE_HOOK = f'blocks.{layer_num}.hook_resid_{hook_part}'"
   ]
  },
  {
   "cell_type": "code",
   "execution_count": 4,
   "id": "65e2fd17-e394-43e2-a0d3-ceca2e06b947",
   "metadata": {},
   "outputs": [],
   "source": [
    "cfg = ScoresConfig(BASE_MODEL, FINETUNE_MODEL, DATASET_NAME, RELEASE, layer_num, hook_part,\n",
    "                   SUBSTITUTION_LOSS_BATCH_SIZE = 25,\n",
    "                   L0_LOSS_BATCH_SIZE = 50,\n",
    "                   FEATURE_ACTS_BATCH_SIZE = 25,\n",
    "                   FEATURE_DENSITY_BATCH_SIZE = 50)"
   ]
  },
  {
   "cell_type": "code",
   "execution_count": 5,
   "id": "5e55a0de-3578-4544-a15a-93530a700931",
   "metadata": {},
   "outputs": [
    {
     "name": "stderr",
     "output_type": "stream",
     "text": [
      "C:\\Users\\Tarassaco\\miniforge-pypy3\\envs\\mech_interp\\lib\\site-packages\\transformers\\tokenization_utils_base.py:1601: FutureWarning: `clean_up_tokenization_spaces` was not set. It will be set to `True` by default. This behavior will be depracted in transformers v4.45, and will be then set to `False` by default. For more details check this issue: https://github.com/huggingface/transformers/issues/31884\n",
      "  warnings.warn(\n",
      "WARNING:root:With reduced precision, it is advised to use `from_pretrained_no_processing` instead of `from_pretrained`.\n"
     ]
    },
    {
     "name": "stdout",
     "output_type": "stream",
     "text": [
      "Loaded pretrained model gpt2-small into HookedTransformer\n"
     ]
    },
    {
     "name": "stderr",
     "output_type": "stream",
     "text": [
      "C:\\Edu\\Mech_Interp\\SAE_merging\\SAE-Tuning-Merging\\saetuning\\get_scores.py:104: FutureWarning: You are using `torch.load` with `weights_only=False` (the current default value), which uses the default pickle module implicitly. It is possible to construct malicious pickle data which will execute arbitrary code during unpickling (See https://github.com/pytorch/pytorch/blob/main/SECURITY.md#untrusted-models for more details). In a future release, the default value for `weights_only` will be flipped to `True`. This limits the functions that could be executed during unpickling. Arbitrary objects will no longer be allowed to be loaded via this mode unless they are explicitly allowlisted by the user via `torch.serialization.add_safe_globals`. We recommend you start setting `weights_only=True` for any use case where you don't have full control of the loaded file. Please open an issue on GitHub for any issues related to this experimental feature.\n",
      "  all_tokens = torch.load(tokens_path)\n"
     ]
    },
    {
     "name": "stdout",
     "output_type": "stream",
     "text": [
      "Warning: Dataset is not tokenized. Pre-tokenizing will improve performance and allows for more control over special tokens. See https://jbloomaus.github.io/SAELens/training_saes/#pretokenizing-datasets for more info.\n",
      "PYTHONPATH: C:\\Edu\\Mech_Interp\\SAE_merging\\SAE-Tuning-Merging\n",
      "DATAPATH: C:\\Edu\\Mech_Interp\\SAE_merging\\SAE-Tuning-Merging\\data\n",
      "C:\\Edu\\Mech_Interp\\SAE_merging\\SAE-Tuning-Merging\\data\\L0_loss_tokens_gpt2-small.pt\n"
     ]
    },
    {
     "name": "stderr",
     "output_type": "stream",
     "text": [
      "100%|████████████████████████████████████████████████████████████████████████████████████████████████████████████████████████████████| 50/50 [00:02<00:00, 19.48it/s]\n",
      "WARNING:root:With reduced precision, it is advised to use `from_pretrained_no_processing` instead of `from_pretrained`.\n"
     ]
    },
    {
     "name": "stdout",
     "output_type": "stream",
     "text": [
      "Loaded pretrained model gpt2-small into HookedTransformer\n",
      "C:\\Edu\\Mech_Interp\\SAE_merging\\SAE-Tuning-Merging\\data\\L0_loss_tokens_gpt2-small.pt\n"
     ]
    },
    {
     "name": "stderr",
     "output_type": "stream",
     "text": [
      "100%|████████████████████████████████████████████████████████████████████████████████████████████████████████████████████████████████| 50/50 [00:02<00:00, 19.81it/s]\n"
     ]
    }
   ],
   "source": [
    "compute_scores(cfg)"
   ]
  },
  {
   "cell_type": "code",
   "execution_count": null,
   "id": "ce491e89-817c-455f-8430-539035b78a75",
   "metadata": {},
   "outputs": [],
   "source": []
  }
 ],
 "metadata": {
  "kernelspec": {
   "display_name": "Python 3 (ipykernel)",
   "language": "python",
   "name": "python3"
  },
  "language_info": {
   "codemirror_mode": {
    "name": "ipython",
    "version": 3
   },
   "file_extension": ".py",
   "mimetype": "text/x-python",
   "name": "python",
   "nbconvert_exporter": "python",
   "pygments_lexer": "ipython3",
   "version": "3.10.14"
  }
 },
 "nbformat": 4,
 "nbformat_minor": 5
}
