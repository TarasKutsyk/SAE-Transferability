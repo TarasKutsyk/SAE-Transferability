{
 "cells": [
  {
   "cell_type": "code",
   "execution_count": 2,
   "id": "bad158ce-2acd-4410-bfef-f62e5c70f902",
   "metadata": {},
   "outputs": [],
   "source": [
    "from get_results import *"
   ]
  },
  {
   "cell_type": "code",
   "execution_count": null,
   "id": "837993fc-f783-4931-9306-0fbe514fd605",
   "metadata": {},
   "outputs": [],
   "source": []
  }
 ],
 "metadata": {
  "kernelspec": {
   "display_name": "Python 3 (ipykernel)",
   "language": "python",
   "name": "python3"
  },
  "language_info": {
   "codemirror_mode": {
    "name": "ipython",
    "version": 3
   },
   "file_extension": ".py",
   "mimetype": "text/x-python",
   "name": "python",
   "nbconvert_exporter": "python",
   "pygments_lexer": "ipython3",
   "version": "3.10.14"
  }
 },
 "nbformat": 4,
 "nbformat_minor": 5
}
