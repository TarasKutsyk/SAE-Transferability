{
  "nbformat": 4,
  "nbformat_minor": 0,
  "metadata": {
    "colab": {
      "provenance": [],
      "machine_shape": "hm"
    },
    "kernelspec": {
      "name": "python3",
      "display_name": "Python 3"
    },
    "language_info": {
      "name": "python"
    },
    "widgets": {
      "application/vnd.jupyter.widget-state+json": {
        "09ff156bb8484ae9bba7fa7d2941583f": {
          "model_module": "@jupyter-widgets/controls",
          "model_name": "HBoxModel",
          "model_module_version": "1.5.0",
          "state": {
            "_dom_classes": [],
            "_model_module": "@jupyter-widgets/controls",
            "_model_module_version": "1.5.0",
            "_model_name": "HBoxModel",
            "_view_count": null,
            "_view_module": "@jupyter-widgets/controls",
            "_view_module_version": "1.5.0",
            "_view_name": "HBoxView",
            "box_style": "",
            "children": [
              "IPY_MODEL_a9045a13572744428d97c39f743ee4bd",
              "IPY_MODEL_1f8953edfb0048b79e3ffe43d513785c",
              "IPY_MODEL_70ee984066b04a489729a56076823446"
            ],
            "layout": "IPY_MODEL_cfbfc6639a07467cacb75bcfc3c948e2"
          }
        },
        "a9045a13572744428d97c39f743ee4bd": {
          "model_module": "@jupyter-widgets/controls",
          "model_name": "HTMLModel",
          "model_module_version": "1.5.0",
          "state": {
            "_dom_classes": [],
            "_model_module": "@jupyter-widgets/controls",
            "_model_module_version": "1.5.0",
            "_model_name": "HTMLModel",
            "_view_count": null,
            "_view_module": "@jupyter-widgets/controls",
            "_view_module_version": "1.5.0",
            "_view_name": "HTMLView",
            "description": "",
            "description_tooltip": null,
            "layout": "IPY_MODEL_679432636276421da6b2864c28941b95",
            "placeholder": "​",
            "style": "IPY_MODEL_c4e85e2e63bc42c99a931f77d59fb705",
            "value": "Loading checkpoint shards: 100%"
          }
        },
        "1f8953edfb0048b79e3ffe43d513785c": {
          "model_module": "@jupyter-widgets/controls",
          "model_name": "FloatProgressModel",
          "model_module_version": "1.5.0",
          "state": {
            "_dom_classes": [],
            "_model_module": "@jupyter-widgets/controls",
            "_model_module_version": "1.5.0",
            "_model_name": "FloatProgressModel",
            "_view_count": null,
            "_view_module": "@jupyter-widgets/controls",
            "_view_module_version": "1.5.0",
            "_view_name": "ProgressView",
            "bar_style": "success",
            "description": "",
            "description_tooltip": null,
            "layout": "IPY_MODEL_5042b6e5d3d14066bb87836c25d32014",
            "max": 2,
            "min": 0,
            "orientation": "horizontal",
            "style": "IPY_MODEL_efd1719140c24550a7826c315c05396e",
            "value": 2
          }
        },
        "70ee984066b04a489729a56076823446": {
          "model_module": "@jupyter-widgets/controls",
          "model_name": "HTMLModel",
          "model_module_version": "1.5.0",
          "state": {
            "_dom_classes": [],
            "_model_module": "@jupyter-widgets/controls",
            "_model_module_version": "1.5.0",
            "_model_name": "HTMLModel",
            "_view_count": null,
            "_view_module": "@jupyter-widgets/controls",
            "_view_module_version": "1.5.0",
            "_view_name": "HTMLView",
            "description": "",
            "description_tooltip": null,
            "layout": "IPY_MODEL_54073d2442a243eea957faa3f0962143",
            "placeholder": "​",
            "style": "IPY_MODEL_b9bc8e8657b64ed7a9cb96a0940fd2d4",
            "value": " 2/2 [01:31&lt;00:00, 43.54s/it]"
          }
        },
        "cfbfc6639a07467cacb75bcfc3c948e2": {
          "model_module": "@jupyter-widgets/base",
          "model_name": "LayoutModel",
          "model_module_version": "1.2.0",
          "state": {
            "_model_module": "@jupyter-widgets/base",
            "_model_module_version": "1.2.0",
            "_model_name": "LayoutModel",
            "_view_count": null,
            "_view_module": "@jupyter-widgets/base",
            "_view_module_version": "1.2.0",
            "_view_name": "LayoutView",
            "align_content": null,
            "align_items": null,
            "align_self": null,
            "border": null,
            "bottom": null,
            "display": null,
            "flex": null,
            "flex_flow": null,
            "grid_area": null,
            "grid_auto_columns": null,
            "grid_auto_flow": null,
            "grid_auto_rows": null,
            "grid_column": null,
            "grid_gap": null,
            "grid_row": null,
            "grid_template_areas": null,
            "grid_template_columns": null,
            "grid_template_rows": null,
            "height": null,
            "justify_content": null,
            "justify_items": null,
            "left": null,
            "margin": null,
            "max_height": null,
            "max_width": null,
            "min_height": null,
            "min_width": null,
            "object_fit": null,
            "object_position": null,
            "order": null,
            "overflow": null,
            "overflow_x": null,
            "overflow_y": null,
            "padding": null,
            "right": null,
            "top": null,
            "visibility": null,
            "width": null
          }
        },
        "679432636276421da6b2864c28941b95": {
          "model_module": "@jupyter-widgets/base",
          "model_name": "LayoutModel",
          "model_module_version": "1.2.0",
          "state": {
            "_model_module": "@jupyter-widgets/base",
            "_model_module_version": "1.2.0",
            "_model_name": "LayoutModel",
            "_view_count": null,
            "_view_module": "@jupyter-widgets/base",
            "_view_module_version": "1.2.0",
            "_view_name": "LayoutView",
            "align_content": null,
            "align_items": null,
            "align_self": null,
            "border": null,
            "bottom": null,
            "display": null,
            "flex": null,
            "flex_flow": null,
            "grid_area": null,
            "grid_auto_columns": null,
            "grid_auto_flow": null,
            "grid_auto_rows": null,
            "grid_column": null,
            "grid_gap": null,
            "grid_row": null,
            "grid_template_areas": null,
            "grid_template_columns": null,
            "grid_template_rows": null,
            "height": null,
            "justify_content": null,
            "justify_items": null,
            "left": null,
            "margin": null,
            "max_height": null,
            "max_width": null,
            "min_height": null,
            "min_width": null,
            "object_fit": null,
            "object_position": null,
            "order": null,
            "overflow": null,
            "overflow_x": null,
            "overflow_y": null,
            "padding": null,
            "right": null,
            "top": null,
            "visibility": null,
            "width": null
          }
        },
        "c4e85e2e63bc42c99a931f77d59fb705": {
          "model_module": "@jupyter-widgets/controls",
          "model_name": "DescriptionStyleModel",
          "model_module_version": "1.5.0",
          "state": {
            "_model_module": "@jupyter-widgets/controls",
            "_model_module_version": "1.5.0",
            "_model_name": "DescriptionStyleModel",
            "_view_count": null,
            "_view_module": "@jupyter-widgets/base",
            "_view_module_version": "1.2.0",
            "_view_name": "StyleView",
            "description_width": ""
          }
        },
        "5042b6e5d3d14066bb87836c25d32014": {
          "model_module": "@jupyter-widgets/base",
          "model_name": "LayoutModel",
          "model_module_version": "1.2.0",
          "state": {
            "_model_module": "@jupyter-widgets/base",
            "_model_module_version": "1.2.0",
            "_model_name": "LayoutModel",
            "_view_count": null,
            "_view_module": "@jupyter-widgets/base",
            "_view_module_version": "1.2.0",
            "_view_name": "LayoutView",
            "align_content": null,
            "align_items": null,
            "align_self": null,
            "border": null,
            "bottom": null,
            "display": null,
            "flex": null,
            "flex_flow": null,
            "grid_area": null,
            "grid_auto_columns": null,
            "grid_auto_flow": null,
            "grid_auto_rows": null,
            "grid_column": null,
            "grid_gap": null,
            "grid_row": null,
            "grid_template_areas": null,
            "grid_template_columns": null,
            "grid_template_rows": null,
            "height": null,
            "justify_content": null,
            "justify_items": null,
            "left": null,
            "margin": null,
            "max_height": null,
            "max_width": null,
            "min_height": null,
            "min_width": null,
            "object_fit": null,
            "object_position": null,
            "order": null,
            "overflow": null,
            "overflow_x": null,
            "overflow_y": null,
            "padding": null,
            "right": null,
            "top": null,
            "visibility": null,
            "width": null
          }
        },
        "efd1719140c24550a7826c315c05396e": {
          "model_module": "@jupyter-widgets/controls",
          "model_name": "ProgressStyleModel",
          "model_module_version": "1.5.0",
          "state": {
            "_model_module": "@jupyter-widgets/controls",
            "_model_module_version": "1.5.0",
            "_model_name": "ProgressStyleModel",
            "_view_count": null,
            "_view_module": "@jupyter-widgets/base",
            "_view_module_version": "1.2.0",
            "_view_name": "StyleView",
            "bar_color": null,
            "description_width": ""
          }
        },
        "54073d2442a243eea957faa3f0962143": {
          "model_module": "@jupyter-widgets/base",
          "model_name": "LayoutModel",
          "model_module_version": "1.2.0",
          "state": {
            "_model_module": "@jupyter-widgets/base",
            "_model_module_version": "1.2.0",
            "_model_name": "LayoutModel",
            "_view_count": null,
            "_view_module": "@jupyter-widgets/base",
            "_view_module_version": "1.2.0",
            "_view_name": "LayoutView",
            "align_content": null,
            "align_items": null,
            "align_self": null,
            "border": null,
            "bottom": null,
            "display": null,
            "flex": null,
            "flex_flow": null,
            "grid_area": null,
            "grid_auto_columns": null,
            "grid_auto_flow": null,
            "grid_auto_rows": null,
            "grid_column": null,
            "grid_gap": null,
            "grid_row": null,
            "grid_template_areas": null,
            "grid_template_columns": null,
            "grid_template_rows": null,
            "height": null,
            "justify_content": null,
            "justify_items": null,
            "left": null,
            "margin": null,
            "max_height": null,
            "max_width": null,
            "min_height": null,
            "min_width": null,
            "object_fit": null,
            "object_position": null,
            "order": null,
            "overflow": null,
            "overflow_x": null,
            "overflow_y": null,
            "padding": null,
            "right": null,
            "top": null,
            "visibility": null,
            "width": null
          }
        },
        "b9bc8e8657b64ed7a9cb96a0940fd2d4": {
          "model_module": "@jupyter-widgets/controls",
          "model_name": "DescriptionStyleModel",
          "model_module_version": "1.5.0",
          "state": {
            "_model_module": "@jupyter-widgets/controls",
            "_model_module_version": "1.5.0",
            "_model_name": "DescriptionStyleModel",
            "_view_count": null,
            "_view_module": "@jupyter-widgets/base",
            "_view_module_version": "1.2.0",
            "_view_name": "StyleView",
            "description_width": ""
          }
        }
      }
    }
  },
  "cells": [
    {
      "cell_type": "code",
      "execution_count": null,
      "metadata": {
        "id": "Fm0blkcA69Ft"
      },
      "outputs": [],
      "source": [
        "# %pip install sae-lens transformer-lens"
      ]
    },
    {
      "cell_type": "code",
      "source": [
        "# # Standard imports\n",
        "# import os\n",
        "# import torch\n",
        "# import numpy as np\n",
        "# from tqdm import tqdm\n",
        "# import plotly.express as px\n",
        "# import pandas as pd\n",
        "# import einops\n",
        "# from datasets import load_dataset\n",
        "# from sae_lens import SAE, HookedSAETransformer\n",
        "# from transformers import AutoModelForCausalLM, AutoTokenizer, BitsAndBytesConfig\n",
        "# from sae_lens import LanguageModelSAERunnerConfig\n",
        "# from sae_lens import ActivationsStore\n",
        "# import os\n",
        "# from dotenv import load_dotenv\n",
        "# import typing\n",
        "# from dataclasses import dataclass\n",
        "# from tqdm import tqdm\n",
        "# import logging\n",
        "\n",
        "# # GPU memory saver (this script doesn't need gradients computation)\n",
        "# torch.set_grad_enabled(False)"
      ],
      "metadata": {
        "id": "PVIcYAmg7COp"
      },
      "execution_count": null,
      "outputs": []
    },
    {
      "cell_type": "code",
      "source": [
        "from pathlib import Path\n",
        "\n",
        "def get_device():\n",
        "    if torch.cuda.is_available():\n",
        "        return torch.device('cuda')\n",
        "    else:\n",
        "        return torch.device('cpu')"
      ],
      "metadata": {
        "id": "3Jm4abfE7EI8"
      },
      "execution_count": null,
      "outputs": []
    },
    {
      "cell_type": "markdown",
      "source": [
        "# Model config"
      ],
      "metadata": {
        "id": "ZTaGCANx7NIh"
      }
    },
    {
      "cell_type": "code",
      "source": [
        "# define the model to work with\n",
        "MODEL = 'MISTRAL' # GEMMA, GPT2\n",
        "\n",
        "if MODEL == 'GEMMA':\n",
        "    RELEASE = 'gemma-2b-res-jb'\n",
        "    BASE_MODEL = \"google/gemma-2b\"\n",
        "    FINETUNE_MODEL = 'shahdishank/gemma-2b-it-finetune-python-codes'\n",
        "    DATASET_NAME = \"ctigges/openwebtext-gemma-1024-cl\"\n",
        "    BASE_TOKENIZER_NAME = BASE_MODEL\n",
        "\n",
        "    hook_part = 'post'\n",
        "    layer_num = 6\n",
        "elif MODEL == 'GPT2':\n",
        "    RELEASE = 'gpt2-small-res-jb'\n",
        "    BASE_MODEL = \"gpt2-small\"\n",
        "    FINETUNE_MODEL = 'pierreguillou/gpt2-small-portuguese'\n",
        "    DATASET_NAME = \"Skylion007/openwebtext\"\n",
        "    BASE_TOKENIZER_NAME = BASE_MODEL\n",
        "\n",
        "    hook_part = 'pre'\n",
        "    layer_num = 6\n",
        "elif MODEL == 'MISTRAL':\n",
        "    RELEASE = 'mistral-7b-res-wg'\n",
        "    BASE_MODEL = \"mistral-7b\"\n",
        "    FINETUNE_MODEL = 'meta-math/MetaMath-Mistral-7B' #DeepMount00/Mistral-Ita-7b\n",
        "    DATASET_NAME = \"monology/pile-uncopyrighted\"\n",
        "    BASE_TOKENIZER_NAME = 'mistralai/Mistral-7B-v0.1'\n",
        "\n",
        "    hook_part = 'pre'\n",
        "    layer_num = 8\n",
        "\n",
        "saving_name_base = BASE_MODEL if \"/\" not in BASE_MODEL else BASE_MODEL.split(\"/\")[-1]\n",
        "saving_name_ft = FINETUNE_MODEL if \"/\" not in FINETUNE_MODEL else FINETUNE_MODEL.split(\"/\")[-1]\n",
        "saving_name_ds = DATASET_NAME if \"/\" not in DATASET_NAME else DATASET_NAME.split(\"/\")[-1]\n",
        "\n",
        "SAE_HOOK = f'blocks.{layer_num}.hook_resid_{hook_part}'"
      ],
      "metadata": {
        "id": "tMeFo_jx7MHm"
      },
      "execution_count": null,
      "outputs": []
    },
    {
      "cell_type": "code",
      "source": [
        "from google.colab import drive\n",
        "from transformers import AutoModelForCausalLM, AutoTokenizer\n",
        "import os\n",
        "\n",
        "# Mount Google Drive\n",
        "drive.mount('/content/drive')\n",
        "\n",
        "# Define the function to save model and tokenizer to Google Drive\n",
        "def save_hf_model_to_gdrive(model_name, drive_folder):\n",
        "    # Create directory in Google Drive if it doesn't exist\n",
        "    if not os.path.exists(drive_folder):\n",
        "        os.makedirs(drive_folder)\n",
        "\n",
        "    # Load the tokenizer and model from Hugging Face\n",
        "    tokenizer = AutoTokenizer.from_pretrained(model_name)\n",
        "    model = AutoModelForCausalLM.from_pretrained(model_name)\n",
        "\n",
        "    # Save the tokenizer and model to the specified folder in Google Drive\n",
        "    tokenizer.save_pretrained(drive_folder)\n",
        "    model.save_pretrained(drive_folder)\n",
        "\n",
        "    print(f\"Model and tokenizer saved to {drive_folder}\")"
      ],
      "metadata": {
        "colab": {
          "base_uri": "https://localhost:8080/"
        },
        "id": "n_FcezFc7Vnl",
        "outputId": "a50a9a01-d572-4de1-e906-04215713fe00"
      },
      "execution_count": null,
      "outputs": [
        {
          "output_type": "stream",
          "name": "stdout",
          "text": [
            "Drive already mounted at /content/drive; to attempt to forcibly remount, call drive.mount(\"/content/drive\", force_remount=True).\n"
          ]
        }
      ]
    },
    {
      "cell_type": "code",
      "source": [
        "# Example usage: specify the Hugging Face model and Google Drive folder\n",
        "gdrive_folder = f'/content/drive/My Drive/Finetunes/{saving_name_ft}'  # Adjust to your desired Google Drive folder\n",
        "\n",
        "save_hf_model_to_gdrive(FINETUNE_MODEL, gdrive_folder)"
      ],
      "metadata": {
        "colab": {
          "base_uri": "https://localhost:8080/",
          "height": 66,
          "referenced_widgets": [
            "09ff156bb8484ae9bba7fa7d2941583f",
            "a9045a13572744428d97c39f743ee4bd",
            "1f8953edfb0048b79e3ffe43d513785c",
            "70ee984066b04a489729a56076823446",
            "cfbfc6639a07467cacb75bcfc3c948e2",
            "679432636276421da6b2864c28941b95",
            "c4e85e2e63bc42c99a931f77d59fb705",
            "5042b6e5d3d14066bb87836c25d32014",
            "efd1719140c24550a7826c315c05396e",
            "54073d2442a243eea957faa3f0962143",
            "b9bc8e8657b64ed7a9cb96a0940fd2d4"
          ]
        },
        "id": "JynLnJTQ7aSl",
        "outputId": "8f472450-2fd6-4358-8220-b601c112c5a3"
      },
      "execution_count": null,
      "outputs": [
        {
          "output_type": "display_data",
          "data": {
            "text/plain": [
              "Loading checkpoint shards:   0%|          | 0/2 [00:00<?, ?it/s]"
            ],
            "application/vnd.jupyter.widget-view+json": {
              "version_major": 2,
              "version_minor": 0,
              "model_id": "09ff156bb8484ae9bba7fa7d2941583f"
            }
          },
          "metadata": {}
        },
        {
          "output_type": "stream",
          "name": "stdout",
          "text": [
            "Model and tokenizer saved to /content/drive/My Drive/Finetunes/MetaMath-Mistral-7B\n"
          ]
        }
      ]
    },
    {
      "cell_type": "code",
      "source": [],
      "metadata": {
        "id": "cwo1WASbXOA6"
      },
      "execution_count": null,
      "outputs": []
    }
  ]
}